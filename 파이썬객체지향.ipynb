{
 "cells": [
  {
   "cell_type": "markdown",
   "metadata": {},
   "source": [
    "# 데코레이터"
   ]
  },
  {
   "cell_type": "code",
   "execution_count": 90,
   "metadata": {},
   "outputs": [],
   "source": [
    "# 파이썬 데코레이터 @ 란\n",
    "\n",
    "def decorator1(func):\n",
    "    def deco1():\n",
    "        print(func.__name__, '함수 시작')\n",
    "        func()\n",
    "        print(func.__name__, '함수 끝')\n",
    "    return deco1\n",
    "\n",
    "\n",
    "def func1():\n",
    "    print('func1이 실행중입니다.')\n",
    "    return 1\n",
    "\n",
    "def func2():\n",
    "    print('func2가 실행중입니다.')"
   ]
  },
  {
   "cell_type": "code",
   "execution_count": 91,
   "metadata": {},
   "outputs": [
    {
     "name": "stdout",
     "output_type": "stream",
     "text": [
      "<function func1 at 0x106d95760>\n",
      "func1이 실행중입니다.\n",
      "1\n"
     ]
    }
   ],
   "source": [
    "print(func1)\n",
    "print(func1())"
   ]
  },
  {
   "cell_type": "code",
   "execution_count": 92,
   "metadata": {},
   "outputs": [
    {
     "name": "stdout",
     "output_type": "stream",
     "text": [
      "<function decorator1.<locals>.deco1 at 0x106d96b60>\n",
      "func1 함수 시작\n",
      "func1이 실행중입니다.\n",
      "func1 함수 끝\n",
      "None\n"
     ]
    }
   ],
   "source": [
    "print(decorator1(func1))\n",
    "print(decorator1(func1)())"
   ]
  },
  {
   "cell_type": "code",
   "execution_count": 93,
   "metadata": {},
   "outputs": [
    {
     "name": "stdout",
     "output_type": "stream",
     "text": [
      "func2 함수 시작\n",
      "func2가 실행중입니다.\n",
      "func2 함수 끝\n"
     ]
    }
   ],
   "source": [
    "dec2 = decorator1(func2)\n",
    "dec2()"
   ]
  },
  {
   "cell_type": "markdown",
   "metadata": {},
   "source": [
    "데코레이터를 사용하면, 함수를 정의하고 호출할 함수를 매개변수로 받아 같은 코드를 반복해서 사용할 수 있다."
   ]
  },
  {
   "cell_type": "code",
   "execution_count": 94,
   "metadata": {},
   "outputs": [],
   "source": [
    "# @ 사용하기 : 호출할 함수 위에 @데코레이터 형식으로 사용한다.\n",
    "\n",
    "@decorator1\n",
    "def func1():\n",
    "    print('func1 함수가 실행중입니다.')\n",
    "\n",
    "@decorator1\n",
    "def func2():\n",
    "    print('func2 함수가 실행중입니다.')"
   ]
  },
  {
   "cell_type": "code",
   "execution_count": 95,
   "metadata": {},
   "outputs": [
    {
     "name": "stdout",
     "output_type": "stream",
     "text": [
      "func1 함수 시작\n",
      "func1 함수가 실행중입니다.\n",
      "func1 함수 끝\n"
     ]
    }
   ],
   "source": [
    "func1()"
   ]
  },
  {
   "cell_type": "code",
   "execution_count": 96,
   "metadata": {},
   "outputs": [
    {
     "name": "stdout",
     "output_type": "stream",
     "text": [
      "func2 함수 시작\n",
      "func2 함수가 실행중입니다.\n",
      "func2 함수 끝\n"
     ]
    }
   ],
   "source": [
    "func2()"
   ]
  },
  {
   "cell_type": "markdown",
   "metadata": {},
   "source": [
    "데코레이션은 함수를 감싸는 형태로 되어있다. 기존의 함수를 수정하지 않으면서 기능을 추가할 때 사용한다.\n",
    "\n",
    "여러 번 사용하여 기능을 추가할 수도 있다."
   ]
  },
  {
   "cell_type": "markdown",
   "metadata": {},
   "source": [
    "# __init__ 이란\n",
    "\n",
    "인스턴스 초기화를 위해 사용됨"
   ]
  },
  {
   "cell_type": "code",
   "execution_count": null,
   "metadata": {},
   "outputs": [],
   "source": []
  },
  {
   "cell_type": "markdown",
   "metadata": {},
   "source": [
    "# call 함수 란\n",
    "\n",
    "인스턴스가 호출됐을 때 실행됨\n",
    "\n",
    "인스턴스를 생성하고 자동으로 클래스의 객체도 호출할 수 있음"
   ]
  },
  {
   "cell_type": "code",
   "execution_count": 97,
   "metadata": {},
   "outputs": [],
   "source": [
    "class Calc:\n",
    "    def __init__(self, n1, n2):\n",
    "        self.n1 = n1\n",
    "        self.n2 = n2\n",
    "        return print(self.n1, self.n2)\n",
    "    \n",
    "    def __call__(self, n1, n2):\n",
    "        self.n1 = n1\n",
    "        self.n2 = n2\n",
    "        return print(self.n1 + self.n2)"
   ]
  },
  {
   "cell_type": "code",
   "execution_count": 98,
   "metadata": {},
   "outputs": [
    {
     "name": "stdout",
     "output_type": "stream",
     "text": [
      "1 2\n",
      "\n",
      "1 2\n",
      "<__main__.Calc object at 0x106d41410>\n",
      "\n",
      "<__main__.Calc object at 0x106d40c50>\n"
     ]
    }
   ],
   "source": [
    "s = Calc(1, 2)\n",
    "print()\n",
    "print(Calc(1,2))\n",
    "print()\n",
    "print(s)"
   ]
  },
  {
   "cell_type": "code",
   "execution_count": 99,
   "metadata": {},
   "outputs": [
    {
     "name": "stdout",
     "output_type": "stream",
     "text": [
      "0 0\n",
      "<__main__.Calc object at 0x10613d510>\n",
      "15\n"
     ]
    }
   ],
   "source": [
    "s = Calc(0, 0)\n",
    "print(s)\n",
    "s(7,8)"
   ]
  },
  {
   "cell_type": "markdown",
   "metadata": {},
   "source": [
    "텐서플로우의 def call() 메서드, 파이토치의 def forward() 메서드가 대표적인 __call__ 함수이다."
   ]
  },
  {
   "cell_type": "code",
   "execution_count": 100,
   "metadata": {},
   "outputs": [],
   "source": [
    "import random\n",
    "\n",
    "class RandomNumberReturn():\n",
    "\n",
    "    def __init__(self):\n",
    "        self.numbers = [ n for n in range(1, 101) ]\n",
    "        \n",
    "\n",
    "    def pick(self):\n",
    "        random.shuffle(self.numbers)\n",
    "\n",
    "        return sorted( [ random.choice(self.numbers) for _ in range(10) ] )\n",
    "    \n",
    "\n",
    "    def __call__(self): \n",
    "        print('call 함수가 호출되었습니다.')\n",
    "        return self.pick()"
   ]
  },
  {
   "cell_type": "code",
   "execution_count": 101,
   "metadata": {},
   "outputs": [
    {
     "data": {
      "text/plain": [
       "<__main__.RandomNumberReturn at 0x106d73c10>"
      ]
     },
     "execution_count": 101,
     "metadata": {},
     "output_type": "execute_result"
    }
   ],
   "source": [
    "randnum = RandomNumberReturn() # 랜덤넘버 인스턴스 생성\n",
    "randnum"
   ]
  },
  {
   "cell_type": "code",
   "execution_count": 102,
   "metadata": {},
   "outputs": [
    {
     "data": {
      "text/plain": [
       "[7, 16, 28, 32, 33, 47, 50, 54, 83, 92]"
      ]
     },
     "execution_count": 102,
     "metadata": {},
     "output_type": "execute_result"
    }
   ],
   "source": [
    "randnum.pick() # 정상적인 방법으로 인스턴스의 메서드 호출"
   ]
  },
  {
   "cell_type": "code",
   "execution_count": 103,
   "metadata": {},
   "outputs": [
    {
     "data": {
      "text/plain": [
       "True"
      ]
     },
     "execution_count": 103,
     "metadata": {},
     "output_type": "execute_result"
    }
   ],
   "source": [
    "callable(randnum) # __call__ 활용 가능한지 확인, 콜러블 객체인지 true/false 로 확인"
   ]
  },
  {
   "cell_type": "code",
   "execution_count": 104,
   "metadata": {},
   "outputs": [
    {
     "name": "stdout",
     "output_type": "stream",
     "text": [
      "call 함수가 호출되었습니다.\n"
     ]
    },
    {
     "data": {
      "text/plain": [
       "[4, 17, 21, 29, 69, 71, 72, 84, 86, 90]"
      ]
     },
     "execution_count": 104,
     "metadata": {},
     "output_type": "execute_result"
    }
   ],
   "source": [
    "randnum() # call 매직메서드를 이용한 객체 호출"
   ]
  },
  {
   "cell_type": "code",
   "execution_count": 105,
   "metadata": {},
   "outputs": [
    {
     "name": "stdout",
     "output_type": "stream",
     "text": [
      "call 함수가 호출되었습니다.\n"
     ]
    },
    {
     "data": {
      "text/plain": [
       "[15, 30, 48, 55, 63, 73, 82, 84, 92, 97]"
      ]
     },
     "execution_count": 105,
     "metadata": {},
     "output_type": "execute_result"
    }
   ],
   "source": [
    "RandomNumberReturn()() "
   ]
  },
  {
   "cell_type": "code",
   "execution_count": null,
   "metadata": {},
   "outputs": [],
   "source": []
  },
  {
   "cell_type": "markdown",
   "metadata": {},
   "source": [
    "# self 키워드의 역할\n",
    "\n",
    "클래스 변수가 클래스 전역에 영향을 미친다고 하더라도, 이미 생성된 인스턴스의 class variable에 직접적으로 사후 접근하여 값을 변경한다면, 변경된 값이 다른 인스턴스에 영향을 주진 않는다."
   ]
  },
  {
   "cell_type": "code",
   "execution_count": 106,
   "metadata": {},
   "outputs": [],
   "source": [
    "class Dog:\n",
    "\n",
    "    breed = \"UnKnown\"\n",
    "\n",
    "    def __init__(self, name):\n",
    "        self.name = name"
   ]
  },
  {
   "cell_type": "code",
   "execution_count": 111,
   "metadata": {},
   "outputs": [],
   "source": [
    "dog1 = Dog('바둑이')\n",
    "dog2 = Dog('쪼꼬')"
   ]
  },
  {
   "cell_type": "code",
   "execution_count": 112,
   "metadata": {},
   "outputs": [
    {
     "name": "stdout",
     "output_type": "stream",
     "text": [
      "바둑이\n",
      "쪼꼬\n"
     ]
    }
   ],
   "source": [
    "print(dog1.name)\n",
    "print(dog2.name)"
   ]
  },
  {
   "cell_type": "code",
   "execution_count": 113,
   "metadata": {},
   "outputs": [
    {
     "name": "stdout",
     "output_type": "stream",
     "text": [
      "UnKnown\n",
      "UnKnown\n"
     ]
    }
   ],
   "source": [
    "print(dog1.breed)\n",
    "print(dog2.breed)"
   ]
  },
  {
   "cell_type": "code",
   "execution_count": 114,
   "metadata": {},
   "outputs": [
    {
     "name": "stdout",
     "output_type": "stream",
     "text": [
      "골든 리트리버\n",
      "UnKnown\n"
     ]
    }
   ],
   "source": [
    "dog1.breed = '골든 리트리버'\n",
    "\n",
    "print(dog1.breed) # dog1의 클래스 변수만 바뀐다.\n",
    "print(dog2.breed)"
   ]
  },
  {
   "cell_type": "markdown",
   "metadata": {},
   "source": [
    "# 클래스 메서드와 정적 메서드\n",
    "\n",
    "인스턴스 메서드 : 클래스 내에서 함수를 정의하고 사용하는 메서드, 객체에 소속됨\n",
    "\n",
    "클래스 메서드 : 특정 객체x, 클래스 전체가 공유함\n",
    "\n",
    "클래스 메서드를 만드는 법? 함수 앞에 @classmethod 데코레이터 붙이고, 첫번째 인수로 클래스에 해당하는 cls 인수 받기"
   ]
  },
  {
   "cell_type": "code",
   "execution_count": 169,
   "metadata": {},
   "outputs": [],
   "source": [
    "# 클래스 정의\n",
    "class Car:\n",
    "\n",
    "    count = 0\n",
    "\n",
    "    def __init__(self, name):\n",
    "        self.name = name\n",
    "        Car.count += 1\n",
    "\n",
    "    def nonclassmethod(self):\n",
    "        print('클래스 메서드가 아닙니다. 지금까지 총 {}대의 자동차 인스턴스가 생성되었습니다.'.format(Car.count))\n",
    "        \n",
    "    # 클래스 메서드 생성\n",
    "    @classmethod\n",
    "    def outcount(cls):\n",
    "        print('클래스 메서드가 실행중입니다. 지금까지 총 {}대의 자동차 인스턴스가 생성되었습니다.'.format(cls.count))\n",
    "\n"
   ]
  },
  {
   "cell_type": "code",
   "execution_count": 170,
   "metadata": {},
   "outputs": [
    {
     "data": {
      "text/plain": [
       "0"
      ]
     },
     "execution_count": 170,
     "metadata": {},
     "output_type": "execute_result"
    }
   ],
   "source": [
    "Car.count"
   ]
  },
  {
   "cell_type": "code",
   "execution_count": 171,
   "metadata": {},
   "outputs": [
    {
     "name": "stdout",
     "output_type": "stream",
     "text": [
      "제네시스\n",
      "1\n"
     ]
    }
   ],
   "source": [
    "genesis = Car('제네시스')\n",
    "print(genesis.name)\n",
    "print(genesis.count)"
   ]
  },
  {
   "cell_type": "code",
   "execution_count": 172,
   "metadata": {},
   "outputs": [
    {
     "name": "stdout",
     "output_type": "stream",
     "text": [
      "모닝\n",
      "2\n"
     ]
    }
   ],
   "source": [
    "morning = Car('모닝')\n",
    "print(morning.name)\n",
    "print(morning.count)"
   ]
  },
  {
   "cell_type": "code",
   "execution_count": 173,
   "metadata": {},
   "outputs": [
    {
     "data": {
      "text/plain": [
       "2"
      ]
     },
     "execution_count": 173,
     "metadata": {},
     "output_type": "execute_result"
    }
   ],
   "source": [
    "Car.count"
   ]
  },
  {
   "cell_type": "code",
   "execution_count": 174,
   "metadata": {},
   "outputs": [
    {
     "name": "stdout",
     "output_type": "stream",
     "text": [
      "클래스 메서드가 실행중입니다. 지금까지 총 2대의 자동차 인스턴스가 생성되었습니다.\n"
     ]
    }
   ],
   "source": [
    "Car.outcount()"
   ]
  },
  {
   "cell_type": "code",
   "execution_count": 175,
   "metadata": {},
   "outputs": [
    {
     "name": "stdout",
     "output_type": "stream",
     "text": [
      "클래스 메서드가 실행중입니다. 지금까지 총 2대의 자동차 인스턴스가 생성되었습니다.\n"
     ]
    }
   ],
   "source": [
    "genesis.outcount()"
   ]
  },
  {
   "cell_type": "code",
   "execution_count": 177,
   "metadata": {},
   "outputs": [
    {
     "name": "stdout",
     "output_type": "stream",
     "text": [
      "클래스 메서드가 아닙니다. 지금까지 총 2대의 자동차 인스턴스가 생성되었습니다.\n"
     ]
    }
   ],
   "source": [
    "genesis.nonclassmethod()"
   ]
  },
  {
   "cell_type": "code",
   "execution_count": null,
   "metadata": {},
   "outputs": [],
   "source": []
  },
  {
   "cell_type": "code",
   "execution_count": null,
   "metadata": {},
   "outputs": [],
   "source": []
  }
 ],
 "metadata": {
  "kernelspec": {
   "display_name": "midoi",
   "language": "python",
   "name": "python3"
  },
  "language_info": {
   "codemirror_mode": {
    "name": "ipython",
    "version": 3
   },
   "file_extension": ".py",
   "mimetype": "text/x-python",
   "name": "python",
   "nbconvert_exporter": "python",
   "pygments_lexer": "ipython3",
   "version": "3.11.4"
  },
  "orig_nbformat": 4
 },
 "nbformat": 4,
 "nbformat_minor": 2
}
